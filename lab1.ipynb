{
 "cells": [
  {
   "cell_type": "code",
   "execution_count": 45,
   "metadata": {},
   "outputs": [],
   "source": [
    "import numpy as np\n",
    "import torch"
   ]
  },
  {
   "cell_type": "code",
   "execution_count": 46,
   "metadata": {},
   "outputs": [],
   "source": [
    "def myConv2d(\n",
    "  matrix,\n",
    "  in_channels,\n",
    "  out_channels,\n",
    "  kernel_size,\n",
    "  stride=1,\n",
    "  padding=0,\n",
    "  dilation=1,\n",
    "  groups=1,\n",
    "  bias=True,\n",
    "  padding_mode='zeros'\n",
    "  ):\n",
    "    if (in_channels%groups != 0) or (out_channels%groups!=0):\n",
    "      raise Exception('in_channels and out_channels must be divisible by groups')\n",
    "\n",
    "    if bias == True:\n",
    "      bias_val = torch.rand(out_channels)\n",
    "    else:\n",
    "      bias_val = torch.zeros(out_channels)\n",
    "\n",
    "    if (padding_mode == 'zeros'):\n",
    "      pad = torch.nn.ZeroPad2d(padding)\n",
    "      matrix = pad(matrix)\n",
    "    if (padding_mode == 'reflect'):\n",
    "      pad = torch.nn.ReflectionPad2d(padding)\n",
    "      matrix = pad(matrix)\n",
    "    if (padding_mode == 'replicate'):\n",
    "      pad = torch.nn.ReplicationPad2d(2)\n",
    "      matrix = pad(matrix)\n",
    "    if (padding_mode == 'circular'):\n",
    "      pad = torch.nn.CircularPad2d(padding)\n",
    "      matrix = pad(matrix)\n",
    "\n",
    "    if type(kernel_size) == tuple:\n",
    "      weight = torch.rand(\n",
    "        out_channels,\n",
    "        in_channels//groups,\n",
    "        kernel_size[0],\n",
    "        kernel_size[1],\n",
    "        )\n",
    "    if type(kernel_size) == int:\n",
    "      weight = torch.rand(\n",
    "        out_channels,\n",
    "        in_channels//groups,\n",
    "        kernel_size,\n",
    "        kernel_size,\n",
    "        )\n",
    "    result = []\n",
    "    for l in range(out_channels):\n",
    "      feature_map = np.array([])\n",
    "      for i in range (0, matrix.shape[1]-((weight.shape[2]-1)*dilation+1)+1, stride):\n",
    "        for j in range (0, matrix.shape[2]-((weight.shape[3]-1)*dilation+1)+1, stride):\n",
    "          summa = 0\n",
    "          for c in range (in_channels//groups):\n",
    "            if groups>1:\n",
    "              val = matrix[l*(in_channels//groups)+c][\n",
    "                i:i+(weight.shape[2]-1)*dilation+1:dilation,\n",
    "                j:j+(weight.shape[3]-1)*dilation+1:dilation,\n",
    "                ]\n",
    "            else:\n",
    "              val = matrix[c][\n",
    "                i:i+(weight.shape[2]-1)*dilation+1:dilation,\n",
    "                j:j+(weight.shape[3]-1)*dilation+1:dilation,\n",
    "                ]\n",
    "            mini_sum = (val*weight[l][c]).sum()\n",
    "            summa = summa + mini_sum\n",
    "          feature_map = np.append(feature_map, float(summa + bias_val[l]))\n",
    "\n",
    "      result.append(\n",
    "        feature_map.reshape(\n",
    "          (matrix.shape[1]-((weight.shape[2]-1)*dilation+1))//stride+1,\n",
    "          (matrix.shape[2]-((weight.shape[3]-1)*dilation+1))//stride+1,\n",
    "          ))\n",
    "\n",
    "    return np.array(result), np.array(weight), np.array(bias_val),\n"
   ]
  },
  {
   "cell_type": "code",
   "execution_count": 47,
   "metadata": {},
   "outputs": [],
   "source": [
    "tensor1 = torch.rand(4, 5, 6)\n",
    "tensor2 = torch.rand(3, 28, 28)\n",
    "tensor3 = torch.rand(1, 1, 1)"
   ]
  },
  {
   "cell_type": "code",
   "execution_count": 48,
   "metadata": {},
   "outputs": [
    {
     "data": {
      "text/plain": [
       "True"
      ]
     },
     "execution_count": 48,
     "metadata": {},
     "output_type": "execute_result"
    }
   ],
   "source": [
    "result, weight, bias_val = myConv2d(\n",
    "    tensor1,\n",
    "    in_channels=4,\n",
    "    out_channels=2,\n",
    "    kernel_size=3,\n",
    "    stride=1,\n",
    "    padding=0,\n",
    "    dilation=1,\n",
    "    groups=2,\n",
    "    bias=True,\n",
    "    padding_mode='zeros',\n",
    "    )\n",
    "torchFunction = torch.nn.Conv2d(\n",
    "    in_channels=4,\n",
    "    out_channels=2,\n",
    "    kernel_size=3,\n",
    "    stride=1,\n",
    "    padding=0,\n",
    "    dilation=1,\n",
    "    groups=2,\n",
    "    bias=True,\n",
    "    padding_mode='zeros',\n",
    "    )\n",
    "torchFunction.weight.data = torch.tensor(weight)\n",
    "torchFunction.bias.data = torch.tensor(bias_val)\n",
    "myResult = str(np.round(result, 2))\n",
    "torchResult = str(np.round(np.array(torchFunction(tensor1).data), 2))\n",
    "torchResult == myResult\n"
   ]
  },
  {
   "cell_type": "code",
   "execution_count": 49,
   "metadata": {},
   "outputs": [
    {
     "data": {
      "text/plain": [
       "True"
      ]
     },
     "execution_count": 49,
     "metadata": {},
     "output_type": "execute_result"
    }
   ],
   "source": [
    "result2, weight2, bias_val2 = myConv2d(\n",
    "    tensor2, in_channels=3, \n",
    "    out_channels=1, \n",
    "    kernel_size=3, \n",
    "    stride=1, \n",
    "    padding=0, \n",
    "    dilation=2, \n",
    "    groups=1, \n",
    "    bias=True, \n",
    "    padding_mode='zeros',\n",
    "    )\n",
    "torchFunction2 = torch.nn.Conv2d(\n",
    "    in_channels=3, \n",
    "    out_channels=1, \n",
    "    kernel_size=3, \n",
    "    stride=1, \n",
    "    padding=0, \n",
    "    dilation=2, \n",
    "    groups=1, \n",
    "    bias=True, \n",
    "    padding_mode='zeros',\n",
    "    )\n",
    "torchFunction2.weight.data = torch.tensor(weight2)\n",
    "torchFunction2.bias.data = torch.tensor(bias_val2)\n",
    "myResult = str(np.round(result2, 2))\n",
    "torchResult = str(np.round(np.array(torchFunction2(tensor2).data), 2))\n",
    "torchResult == myResult"
   ]
  },
  {
   "cell_type": "code",
   "execution_count": 50,
   "metadata": {},
   "outputs": [
    {
     "data": {
      "text/plain": [
       "True"
      ]
     },
     "execution_count": 50,
     "metadata": {},
     "output_type": "execute_result"
    }
   ],
   "source": [
    "result3, weight3, bias_val3 = myConv2d(\n",
    "    tensor3, \n",
    "    in_channels=1, \n",
    "    out_channels=1, \n",
    "    kernel_size=1, \n",
    "    stride=1, \n",
    "    padding=0, \n",
    "    dilation=1, \n",
    "    groups=1, \n",
    "    bias=True, \n",
    "    padding_mode='zeros',\n",
    "    )\n",
    "torchFunction3 = torch.nn.Conv2d(\n",
    "    in_channels=1, \n",
    "    out_channels=1, \n",
    "    kernel_size=1, \n",
    "    stride=1, \n",
    "    padding=0, \n",
    "    dilation=1, \n",
    "    groups=1, \n",
    "    bias=True, \n",
    "    padding_mode='zeros',\n",
    "    )\n",
    "torchFunction3.weight.data = torch.tensor(weight3)\n",
    "torchFunction3.bias.data = torch.tensor(bias_val3)\n",
    "myResult = str(np.round(result3, 2))\n",
    "torchResult = str(np.round(np.array(torchFunction3(tensor3).data), 2))\n",
    "torchResult == myResult"
   ]
  }
 ],
 "metadata": {
  "kernelspec": {
   "display_name": "Python 3",
   "language": "python",
   "name": "python3"
  },
  "language_info": {
   "codemirror_mode": {
    "name": "ipython",
    "version": 3
   },
   "file_extension": ".py",
   "mimetype": "text/x-python",
   "name": "python",
   "nbconvert_exporter": "python",
   "pygments_lexer": "ipython3",
   "version": "3.11.6"
  }
 },
 "nbformat": 4,
 "nbformat_minor": 2
}
