{
 "cells": [
  {
   "cell_type": "code",
   "execution_count": 41,
   "metadata": {},
   "outputs": [],
   "source": [
    "import numpy as np\n",
    "import torch\n",
    "from torch.nn.functional import conv2d as libConv2d"
   ]
  },
  {
   "cell_type": "code",
   "execution_count": 45,
   "metadata": {},
   "outputs": [],
   "source": [
    "class conv2Self():\n",
    "    def __init__(\n",
    "        self,\n",
    "        input_data,\n",
    "        kernel_size: tuple | int,\n",
    "        bias: float | None = None,\n",
    "        stride: int = 1,\n",
    "        padding: tuple[int, int] | int | str = (0, 0),\n",
    "        dilation: int = 1,\n",
    "    ):\n",
    "        self.input_data = input_data[0,0].numpy()\n",
    "        self.input_data_for_torch = input_data\n",
    "        self.bias = bias\n",
    "        \n",
    "        if type(kernel_size) == tuple:\n",
    "            self.kernel_size = kernel_size\n",
    "        else:\n",
    "            self.kernel_size = (kernel_size, kernel_size)\n",
    "\n",
    "        self.stride = stride\n",
    "\n",
    "        self.dilation = dilation\n",
    "\n",
    "        if type(padding) == tuple:\n",
    "            self.padding = padding[0]\n",
    "        elif padding == \"same\":\n",
    "            if self.stride != 1:\n",
    "                raise ValueError(\"padding 'same' work only with stride=1\")\n",
    "            self.padding = self.kernel_size[0]-1\n",
    "        elif padding == \"valid\":\n",
    "            self.padding = 0\n",
    "        else:\n",
    "            self.padding = (padding, padding)\n",
    "            \n",
    "        self.weight_tensor_for_torch = torch.randn(1,1,self.kernel_size[0], self.kernel_size[1])\n",
    "        self.weight_tensor = self.weight_tensor_for_torch[0,0].numpy()\n",
    "        \n",
    "    def conv2d(self):\n",
    "        image_height, image_width = self.input_data.shape\n",
    "        weight_height, weight_width = self.weight_tensor.shape\n",
    "        \n",
    "        H_out = int((image_height - self.dilation * (weight_height - 1) - 1 + 2* self.padding)/self.stride) + 1\n",
    "        W_out = int((image_width - self.dilation * (weight_width - 1) - 1 + 2* self.padding)/self.stride) + 1\n",
    "        \n",
    "        \n",
    "        if self.padding>0:\n",
    "            self.input_data = np.pad(self.input_data, self.padding, mode='constant')\n",
    "        \n",
    "        result = np.zeros((H_out, W_out))\n",
    "        \n",
    "        for y in range(H_out):\n",
    "            for x in range(W_out):\n",
    "                input_slice = self.input_data[y * self.stride:y * self.stride + weight_height, x * self.stride:x * self.stride + weight_width]\n",
    "                result[y, x] = np.sum(input_slice * self.weight_tensor)\n",
    "        \n",
    "        if self.bias:\n",
    "            result+=self.bias\n",
    "            \n",
    "        return result\n",
    "    \n",
    "    def torch_conv2d(self):\n",
    "        return libConv2d(self.input_data_for_torch, self.weight_tensor_for_torch, self.bias, self.stride, self.padding, self.dilation)\n",
    "    \n",
    "    def test(self, print_flg=False):\n",
    "        my_conv2d = self.conv2d()\n",
    "        torch_out = np.array(self.torch_conv2d())\n",
    "        if print_flg:\n",
    "            print(my_conv2d)\n",
    "            print(torch_out[0,0])\n",
    "        print(np.allclose(my_conv2d, torch_out[0, 0]))"
   ]
  },
  {
   "cell_type": "code",
   "execution_count": 46,
   "metadata": {},
   "outputs": [],
   "source": [
    "import numpy as np\n",
    "image = torch.randn(1,1,5,5)\n",
    "\n",
    "# Тестовый случай 1: Обычная свертка\n",
    "c1 = conv2Self(image, kernel_size=1)\n",
    "\n",
    "# Тестовый случай 2: Свертка с padding='same'\n",
    "c2 = conv2Self(image, kernel_size=1, padding='same')\n",
    "\n",
    "# Тестовый случай 3: Свертка с padding='valid'\n",
    "c3 = conv2Self(image, kernel_size=1, padding='valid')\n",
    "\n",
    "# Тестовый случай 4: Различные размеры входных данных и ядра\n",
    "c4 = conv2Self(image, kernel_size=4, padding='same')\n",
    "\n",
    "# Тестовый случай 5: Свертка с dilation\n",
    "c5 = conv2Self(image, kernel_size=1, dilation=5)\n",
    "\n",
    "# Тестовый случай 6: Свертка с stride\n",
    "c6 = conv2Self(image, kernel_size=1, stride=5)"
   ]
  },
  {
   "cell_type": "code",
   "execution_count": 47,
   "metadata": {},
   "outputs": [],
   "source": [
    "tests = [c1,c2,c3,c4,c5,c6]"
   ]
  },
  {
   "cell_type": "code",
   "execution_count": 48,
   "metadata": {},
   "outputs": [
    {
     "name": "stdout",
     "output_type": "stream",
     "text": [
      "TestCase #1\n",
      "True\n",
      "TestCase #2\n",
      "True\n",
      "TestCase #3\n",
      "True\n",
      "TestCase #4\n",
      "True\n",
      "TestCase #5\n",
      "True\n",
      "TestCase #6\n",
      "True\n"
     ]
    }
   ],
   "source": [
    "for i in range(len(tests)):\n",
    "    print(f\"TestCase #{i+1}\")\n",
    "    tests[i].test()\n",
    "    # print('\\n'*2)"
   ]
  },
  {
   "cell_type": "code",
   "execution_count": null,
   "metadata": {},
   "outputs": [],
   "source": []
  }
 ],
 "metadata": {
  "kernelspec": {
   "display_name": "Python 3",
   "language": "python",
   "name": "python3"
  },
  "language_info": {
   "codemirror_mode": {
    "name": "ipython",
    "version": 3
   },
   "file_extension": ".py",
   "mimetype": "text/x-python",
   "name": "python",
   "nbconvert_exporter": "python",
   "pygments_lexer": "ipython3",
   "version": "3.11.6"
  }
 },
 "nbformat": 4,
 "nbformat_minor": 2
}
