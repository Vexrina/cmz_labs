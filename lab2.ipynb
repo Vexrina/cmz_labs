{
 "cells": [
  {
   "cell_type": "code",
   "execution_count": 8,
   "metadata": {},
   "outputs": [],
   "source": [
    "import torch\n",
    "import numpy as np"
   ]
  },
  {
   "cell_type": "code",
   "execution_count": 9,
   "metadata": {},
   "outputs": [],
   "source": [
    "def myConv3d(\n",
    "    input_image,\n",
    "    in_channels,\n",
    "    out_channels,\n",
    "    kernel_size,\n",
    "    stride=1,\n",
    "    padding=0,\n",
    "    dilation=1,\n",
    "    groups=1,\n",
    "    bias=True,\n",
    "    padding_mode='zeros',\n",
    "    ):\n",
    "    if (in_channels%groups != 0) or (out_channels%groups!=0):\n",
    "      raise Exception('in_channels and out_channels must be divisible by groups')\n",
    "    if bias == True:\n",
    "      bias_val = torch.rand(out_channels)\n",
    "    else:\n",
    "      bias_val = torch.zeros(out_channels)\n",
    "    if (padding_mode == 'zeros'):\n",
    "      pad = torch.nn.ZeroPad3d(padding)\n",
    "      input_image = pad(input_image)\n",
    "    if (padding_mode == 'reflect'):\n",
    "      pad = torch.nn.ReflectionPad3d(padding)\n",
    "      input_image = pad(input_image)\n",
    "    if (padding_mode == 'replicate'):\n",
    "      pad = torch.nn.ReplicationPad3d(padding)\n",
    "      input_image = pad(input_image)\n",
    "    if (padding_mode == 'circular'):\n",
    "      pad = torch.nn.CircularPad3d(padding)\n",
    "      input_image = pad(input_image)\n",
    "    if type(kernel_size) == tuple:\n",
    "      weights = torch.rand(\n",
    "          out_channels,\n",
    "          in_channels//groups,\n",
    "          kernel_size[0],\n",
    "          kernel_size[1],\n",
    "          kernel_size[2],\n",
    "          )\n",
    "    if type(kernel_size) == int:\n",
    "      weights = torch.rand(\n",
    "          out_channels,\n",
    "          in_channels//groups,\n",
    "          kernel_size,\n",
    "          kernel_size,\n",
    "          kernel_size,\n",
    "          )\n",
    "    result = []\n",
    "    for l in range(out_channels):\n",
    "      ceil_of_res = np.array([])\n",
    "      for k in range (0, input_image.shape[1]-((weights.shape[2]-1)*dilation+1)+1, stride):\n",
    "        for i in range (0, input_image.shape[2]-((weights.shape[3]-1)*dilation+1)+1, stride):\n",
    "          for j in range (0, input_image.shape[3]-((weights.shape[4]-1)*dilation+1)+1, stride):\n",
    "            preres = 0\n",
    "            for c in range (in_channels//groups):\n",
    "              if groups>1:\n",
    "                val = input_image[l*(in_channels//groups)+c][\n",
    "                    k:k+(weights.shape[2]-1)*dilation+1:dilation,\n",
    "                    i:i+(weights.shape[3]-1)*dilation+1:dilation,\n",
    "                    j:j+(weights.shape[4]-1)*dilation+1:dilation,\n",
    "                    ]\n",
    "              else:\n",
    "                val = input_image[c][\n",
    "                    k:k+(weights.shape[2]-1)*dilation+1:dilation,\n",
    "                    i:i+(weights.shape[3]-1)*dilation+1:dilation,\n",
    "                    j:j+(weights.shape[4]-1)*dilation+1:dilation,\n",
    "                    ]\n",
    "              prepreres = (val*weights[l][c]).sum()\n",
    "              preres = preres + prepreres\n",
    "            ceil_of_res = np.append(ceil_of_res, float(preres + bias_val[l]))\n",
    "\n",
    "      result.append(\n",
    "          ceil_of_res.reshape(\n",
    "              (input_image.shape[1]-((weights.shape[2]-1)*dilation+1))//stride+1,\n",
    "              (input_image.shape[2]-((weights.shape[3]-1)*dilation+1))//stride+1,\n",
    "              (input_image.shape[3]-((weights.shape[4]-1)*dilation+1))//stride+1,\n",
    "              ))\n",
    "\n",
    "    return np.array(result), torch.tensor(np.array(weights)), torch.tensor(np.array(bias_val))"
   ]
  },
  {
   "cell_type": "code",
   "execution_count": 10,
   "metadata": {},
   "outputs": [],
   "source": [
    "tensor1 = torch.rand(4, 6, 6, 6)\n",
    "tensor2 = torch.rand(3, 24, 28, 20)\n",
    "tensor3 = torch.rand(1, 1, 1, 1)"
   ]
  },
  {
   "cell_type": "code",
   "execution_count": 11,
   "metadata": {},
   "outputs": [
    {
     "data": {
      "text/plain": [
       "True"
      ]
     },
     "execution_count": 11,
     "metadata": {},
     "output_type": "execute_result"
    }
   ],
   "source": [
    "result, kernel, bias_val = myConv3d(\n",
    "    tensor1,\n",
    "    in_channels=4,\n",
    "    out_channels=2,\n",
    "    kernel_size=3,\n",
    "    stride=1,\n",
    "    padding=0,\n",
    "    dilation=1,\n",
    "    groups=2,\n",
    "    bias=True,\n",
    "    padding_mode='zeros',\n",
    "    )\n",
    "torchFunction = torch.nn.Conv3d(\n",
    "    in_channels=4,\n",
    "    out_channels=2,\n",
    "    kernel_size=3,\n",
    "    stride=1,\n",
    "    padding=0,\n",
    "    dilation=1,\n",
    "    groups=2,\n",
    "    bias=True,\n",
    "    padding_mode='zeros',\n",
    "    )\n",
    "torchFunction.weight.data = kernel\n",
    "torchFunction.bias.data = bias_val\n",
    "myResult = str(np.round(result, 2))\n",
    "torchResult = str(np.round(np.array(torchFunction(tensor1).data), 2))\n",
    "torchResult == myResult"
   ]
  },
  {
   "cell_type": "code",
   "execution_count": 12,
   "metadata": {},
   "outputs": [
    {
     "data": {
      "text/plain": [
       "True"
      ]
     },
     "execution_count": 12,
     "metadata": {},
     "output_type": "execute_result"
    }
   ],
   "source": [
    "result2, kernel2, bias_val2 = myConv3d(\n",
    "    tensor2,\n",
    "    in_channels=3,\n",
    "    out_channels=1,\n",
    "    kernel_size=3,\n",
    "    stride=1,\n",
    "    padding=0,\n",
    "    dilation=2,\n",
    "    groups=1,\n",
    "    bias=True,\n",
    "    padding_mode='zeros',\n",
    "    )\n",
    "torchFunction2 = torch.nn.Conv3d(\n",
    "    in_channels=3,\n",
    "    out_channels=1,\n",
    "    kernel_size=3,\n",
    "    stride=1,\n",
    "    padding=0,\n",
    "    dilation=2,\n",
    "    groups=1,\n",
    "    bias=True,\n",
    "    padding_mode='zeros',\n",
    "    )\n",
    "torchFunction2.weight.data = kernel2\n",
    "torchFunction2.bias.data = bias_val2\n",
    "myResult = str(np.round(result2, 2))\n",
    "torchResult = str(np.round(np.array(torchFunction2(tensor2).data), 2))\n",
    "torchResult == myResult"
   ]
  },
  {
   "cell_type": "code",
   "execution_count": 13,
   "metadata": {},
   "outputs": [
    {
     "ename": "TypeError",
     "evalue": "myConv3d() missing 1 required positional argument: 'input_image'",
     "output_type": "error",
     "traceback": [
      "\u001b[1;31m---------------------------------------------------------------------------\u001b[0m",
      "\u001b[1;31mTypeError\u001b[0m                                 Traceback (most recent call last)",
      "Cell \u001b[1;32mIn[13], line 1\u001b[0m\n\u001b[1;32m----> 1\u001b[0m result3, kernel3, bias_val3 \u001b[38;5;241m=\u001b[39m \u001b[43mmyConv3d\u001b[49m\u001b[43m(\u001b[49m\n\u001b[0;32m      2\u001b[0m \u001b[43m    \u001b[49m\u001b[43min_channels\u001b[49m\u001b[38;5;241;43m=\u001b[39;49m\u001b[38;5;241;43m1\u001b[39;49m\u001b[43m,\u001b[49m\n\u001b[0;32m      3\u001b[0m \u001b[43m    \u001b[49m\u001b[43mout_channels\u001b[49m\u001b[38;5;241;43m=\u001b[39;49m\u001b[38;5;241;43m1\u001b[39;49m\u001b[43m,\u001b[49m\n\u001b[0;32m      4\u001b[0m \u001b[43m    \u001b[49m\u001b[43mkernel_size\u001b[49m\u001b[38;5;241;43m=\u001b[39;49m\u001b[38;5;241;43m1\u001b[39;49m\u001b[43m,\u001b[49m\n\u001b[0;32m      5\u001b[0m \u001b[43m    \u001b[49m\u001b[43mstride\u001b[49m\u001b[38;5;241;43m=\u001b[39;49m\u001b[38;5;241;43m1\u001b[39;49m\u001b[43m,\u001b[49m\n\u001b[0;32m      6\u001b[0m \u001b[43m    \u001b[49m\u001b[43mpadding\u001b[49m\u001b[38;5;241;43m=\u001b[39;49m\u001b[38;5;241;43m0\u001b[39;49m\u001b[43m,\u001b[49m\n\u001b[0;32m      7\u001b[0m \u001b[43m    \u001b[49m\u001b[43mdilation\u001b[49m\u001b[38;5;241;43m=\u001b[39;49m\u001b[38;5;241;43m1\u001b[39;49m\u001b[43m,\u001b[49m\n\u001b[0;32m      8\u001b[0m \u001b[43m    \u001b[49m\u001b[43mgroups\u001b[49m\u001b[38;5;241;43m=\u001b[39;49m\u001b[38;5;241;43m1\u001b[39;49m\u001b[43m,\u001b[49m\n\u001b[0;32m      9\u001b[0m \u001b[43m    \u001b[49m\u001b[43mbias\u001b[49m\u001b[38;5;241;43m=\u001b[39;49m\u001b[38;5;28;43;01mTrue\u001b[39;49;00m\u001b[43m,\u001b[49m\n\u001b[0;32m     10\u001b[0m \u001b[43m    \u001b[49m\u001b[43mpadding_mode\u001b[49m\u001b[38;5;241;43m=\u001b[39;49m\u001b[38;5;124;43m'\u001b[39;49m\u001b[38;5;124;43mzeros\u001b[39;49m\u001b[38;5;124;43m'\u001b[39;49m\u001b[43m,\u001b[49m\n\u001b[0;32m     11\u001b[0m \u001b[43m    \u001b[49m\u001b[43m)\u001b[49m\n\u001b[0;32m     12\u001b[0m torchFunction3 \u001b[38;5;241m=\u001b[39m torch\u001b[38;5;241m.\u001b[39mnn\u001b[38;5;241m.\u001b[39mConv3d(\n\u001b[0;32m     13\u001b[0m     in_channels\u001b[38;5;241m=\u001b[39m\u001b[38;5;241m1\u001b[39m,\n\u001b[0;32m     14\u001b[0m     out_channels\u001b[38;5;241m=\u001b[39m\u001b[38;5;241m1\u001b[39m,\n\u001b[1;32m   (...)\u001b[0m\n\u001b[0;32m     21\u001b[0m     padding_mode\u001b[38;5;241m=\u001b[39m\u001b[38;5;124m'\u001b[39m\u001b[38;5;124mzeros\u001b[39m\u001b[38;5;124m'\u001b[39m,\n\u001b[0;32m     22\u001b[0m     )\n\u001b[0;32m     23\u001b[0m torchFunction3\u001b[38;5;241m.\u001b[39mweight\u001b[38;5;241m.\u001b[39mdata \u001b[38;5;241m=\u001b[39m kernel3\n",
      "\u001b[1;31mTypeError\u001b[0m: myConv3d() missing 1 required positional argument: 'input_image'"
     ]
    }
   ],
   "source": [
    "result3, kernel3, bias_val3 = myConv3d(\n",
    "    in_channels=1,\n",
    "    out_channels=1,\n",
    "    kernel_size=1,\n",
    "    stride=1,\n",
    "    padding=0,\n",
    "    dilation=1,\n",
    "    groups=1,\n",
    "    bias=True,\n",
    "    padding_mode='zeros',\n",
    "    )\n",
    "torchFunction3 = torch.nn.Conv3d(\n",
    "    in_channels=1,\n",
    "    out_channels=1,\n",
    "    kernel_size=1,\n",
    "    stride=1,\n",
    "    padding=0,\n",
    "    dilation=1,\n",
    "    groups=1,\n",
    "    bias=True,\n",
    "    padding_mode='zeros',\n",
    "    )\n",
    "torchFunction3.weight.data = kernel3\n",
    "torchFunction3.bias.data = bias_val3\n",
    "myResult = str(np.round(result3, 2))\n",
    "torchResult = str(np.round(np.array(torchFunction3(tensor3).data), 2))\n",
    "torchResult == myResult"
   ]
  }
 ],
 "metadata": {
  "kernelspec": {
   "display_name": "Python 3",
   "language": "python",
   "name": "python3"
  },
  "language_info": {
   "codemirror_mode": {
    "name": "ipython",
    "version": 3
   },
   "file_extension": ".py",
   "mimetype": "text/x-python",
   "name": "python",
   "nbconvert_exporter": "python",
   "pygments_lexer": "ipython3",
   "version": "3.11.6"
  }
 },
 "nbformat": 4,
 "nbformat_minor": 2
}
