{
 "cells": [
  {
   "cell_type": "code",
   "execution_count": 1,
   "metadata": {},
   "outputs": [],
   "source": [
    "import torch\n",
    "import numpy as np\n",
    "from torch.nn.functional import conv3d as libConv3d"
   ]
  },
  {
   "cell_type": "code",
   "execution_count": 2,
   "metadata": {},
   "outputs": [],
   "source": [
    "class Conv3DSelf():\n",
    "    def __init__(\n",
    "        self,\n",
    "        input_data,\n",
    "        in_channels: int,\n",
    "        out_channels: int,\n",
    "        kernel_size: tuple | int,\n",
    "        bias: float | None = None,\n",
    "        stride: int = 1,\n",
    "        padding: tuple[int, int] | int | str = (0, 0),\n",
    "        dilation: int = 1,\n",
    "    ):\n",
    "        self.input_data = input_data.numpy()\n",
    "        self.input_data_for_torch = input_data\n",
    "        self.bias = bias\n",
    "        \n",
    "        self.in_channels, self.out_channels = in_channels, out_channels\n",
    "          \n",
    "        if type(kernel_size) == tuple:\n",
    "            self.kernel_size = kernel_size\n",
    "        else:\n",
    "            self.kernel_size = (kernel_size, kernel_size, kernel_size)\n",
    "        \n",
    "        if type(stride) == tuple:\n",
    "            self.stride = stride\n",
    "        else:\n",
    "            self.stride = (stride, stride, stride)\n",
    "\n",
    "        if type(dilation) == tuple:\n",
    "            self.dilation = dilation\n",
    "        else:\n",
    "            self.dilation = (dilation, dilation, dilation)\n",
    "            \n",
    "        if type(padding) == tuple:\n",
    "            self.padding = padding\n",
    "        elif padding == \"same\":\n",
    "            if self.stride[0] != 1 or self.stride[1] != 1 or self.stride[2] != 1:\n",
    "                raise ValueError(\"padding 'same' works only with stride=1\")\n",
    "            self.padding = (self.kernel_size[0]-1,self.kernel_size[1]-1,self.kernel_size[2]-1)\n",
    "        elif padding == \"valid\":\n",
    "            self.padding = (0,0,0)\n",
    "        else:\n",
    "            self.padding = (padding,padding,padding)\n",
    "            \n",
    "        self.weight_tensor_for_torch = torch.randn(1, 1, self.kernel_size[0], self.kernel_size[1], self.kernel_size[2])\n",
    "        self.weight_tensor = self.weight_tensor_for_torch.numpy()\n",
    "        \n",
    "    def conv3d(self):\n",
    "        batches = len(self.input_data)\n",
    "        out = []\n",
    "\n",
    "        for b in range(batches):\n",
    "            d_in = self.input_data[b].shape[1]\n",
    "            h_in = self.input_data[b].shape[2]\n",
    "            w_in = self.input_data[b].shape[3]\n",
    "\n",
    "            if self.kernel_size[0] > h_in or self.kernel_size[1] > w_in or self.kernel_size[2] > d_in:\n",
    "                raise ValueError('kernel size can\\'t be greater than input size')\n",
    "\n",
    "            d_out = int(\n",
    "                (d_in + 2 * self.padding[0] - self.dilation[0] * (self.kernel_size[0] - 1) - 1) / (self.stride[0]) + 1)\n",
    "\n",
    "            h_out = int(\n",
    "                (h_in + 2 * self.padding[1] - self.dilation[1] * (self.kernel_size[1] - 1) - 1) / (self.stride[1]) + 1)\n",
    "\n",
    "            w_out = int(\n",
    "                (w_in + 2 * self.padding[2] - self.dilation[2] * (self.kernel_size[2] - 1) - 1) / (self.stride[2]) + 1)\n",
    "\n",
    "            out.append(np.zeros((self.out_channels, d_out, h_out, w_out)))\n",
    "\n",
    "            for c_out in range(self.out_channels):\n",
    "                for z_out in range(d_out):\n",
    "                    for y_out in range(h_out):\n",
    "                        for x_out in range(w_out):\n",
    "                            sum = 0\n",
    "                            for c_in in range(self.in_channels):\n",
    "                                for kernel_z in range(self.kernel_size[0]):\n",
    "                                    for kernel_y in range(self.kernel_size[1]):\n",
    "                                        for kernel_x in range(self.kernel_size[2]):\n",
    "                                            z_in = z_out * self.stride[0] + kernel_z * self.dilation[0] - self.padding[0]\n",
    "                                            y_in = y_out * self.stride[1] + kernel_y * self.dilation[1] - self.padding[1]\n",
    "                                            x_in = x_out * self.stride[2] + kernel_x * self.dilation[2] - self.padding[2]\n",
    "                                            if 0 <= z_in < d_in and 0 <= y_in < h_in and 0 <= x_in < w_in:\n",
    "                                                sum += self.input_data[b][c_in][z_in][y_in][x_in] * self.weight_tensor[c_out][c_in][kernel_z][kernel_y][kernel_x]\n",
    "\n",
    "                            out[b][c_out][z_out][y_out][x_out] = sum + (self.bias if self.bias else 0)\n",
    "\n",
    "        return np.array(out)\n",
    "    \n",
    "    def torch_conv3d(self):\n",
    "        return libConv3d(\n",
    "            self.input_data_for_torch,\n",
    "            self.weight_tensor_for_torch,\n",
    "            bias=torch.tensor([self.bias]), \n",
    "            stride=self.stride,\n",
    "            padding=self.padding,\n",
    "            dilation=self.dilation,\n",
    "        )\n",
    "    \n",
    "    def test(self, print_flg=False):\n",
    "        my_conv3d = self.conv3d()\n",
    "        torch_out = self.torch_conv3d().squeeze().detach().numpy()\n",
    "        if print_flg:\n",
    "            print(my_conv3d[0][0])\n",
    "            print(torch_out)\n",
    "        print(np.allclose(my_conv3d[0][0], torch_out))\n"
   ]
  },
  {
   "cell_type": "code",
   "execution_count": 16,
   "metadata": {},
   "outputs": [
    {
     "name": "stdout",
     "output_type": "stream",
     "text": [
      "True\n"
     ]
    }
   ],
   "source": [
    "def testing(input_data, in_channels, out_channels, kernel_size, bias, stride, padding, dilation):\n",
    "    conv3d_layer = Conv3DSelf(input_data, in_channels=in_channels, out_channels=out_channels, kernel_size=kernel_size, bias=bias, stride=stride, padding=padding, dilation=dilation)\n",
    "    conv3d_layer.test(print_flg=False)\n",
    "input_data = torch.randn(1, 1, 5, 5, 5)\n",
    "testing(input_data,1,1,4,0.5,1,'same',1)"
   ]
  },
  {
   "cell_type": "code",
   "execution_count": 19,
   "metadata": {},
   "outputs": [
    {
     "name": "stdout",
     "output_type": "stream",
     "text": [
      "True\n"
     ]
    }
   ],
   "source": [
    "input_data = torch.randn(1, 1, 5, 5, 5)\n",
    "testing(input_data,1,1,4,0.5,1,2,2)"
   ]
  },
  {
   "cell_type": "code",
   "execution_count": 20,
   "metadata": {},
   "outputs": [
    {
     "name": "stdout",
     "output_type": "stream",
     "text": [
      "True\n"
     ]
    }
   ],
   "source": [
    "input_data = torch.randn(1, 1, 5, 5, 5)\n",
    "testing(input_data,1,1,4,0.5,4,2,2)"
   ]
  },
  {
   "cell_type": "code",
   "execution_count": 24,
   "metadata": {},
   "outputs": [
    {
     "name": "stdout",
     "output_type": "stream",
     "text": [
      "True\n"
     ]
    }
   ],
   "source": [
    "input_data = torch.randn(1, 1, 5, 5, 5)\n",
    "testing(input_data,1,1,2,0.5,1,2,2)"
   ]
  }
 ],
 "metadata": {
  "kernelspec": {
   "display_name": "Python 3",
   "language": "python",
   "name": "python3"
  },
  "language_info": {
   "codemirror_mode": {
    "name": "ipython",
    "version": 3
   },
   "file_extension": ".py",
   "mimetype": "text/x-python",
   "name": "python",
   "nbconvert_exporter": "python",
   "pygments_lexer": "ipython3",
   "version": "3.11.6"
  }
 },
 "nbformat": 4,
 "nbformat_minor": 2
}
